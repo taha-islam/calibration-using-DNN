{
 "cells": [
  {
   "cell_type": "code",
   "execution_count": 34,
   "metadata": {},
   "outputs": [],
   "source": [
    "import tensorflow as tf\n",
    "from tensorflow import keras\n",
    "import numpy as np\n",
    "import pandas as pd\n",
    "import os"
   ]
  },
  {
   "cell_type": "code",
   "execution_count": 35,
   "metadata": {},
   "outputs": [],
   "source": [
    "def load_data(x, y=None):\n",
    "    data = []\n",
    "    for file in x:\n",
    "        data.append(pd.read_csv(file, index_col=False, \n",
    "                            usecols=['speed','flow_per_lane','before_on_ramp','after_on_ramp',\n",
    "                                     'before_off_ramp','after_off_ramp']).to_numpy())\n",
    "    if y is not None:\n",
    "        labels = []\n",
    "        for file in y:\n",
    "            labels.append(pd.read_csv(file, index_col=False, header=None).to_numpy().transpose()[0])\n",
    "        return np.array(data), np.array(labels)\n",
    "    else:\n",
    "        return np.array(data)"
   ]
  },
  {
   "cell_type": "code",
   "execution_count": 39,
   "metadata": {},
   "outputs": [
    {
     "name": "stderr",
     "output_type": "stream",
     "text": [
      "W0726 16:59:35.475966 27792 hdf5_format.py:221] No training configuration found in save file: the model was *not* compiled. Compile it manually.\n"
     ]
    }
   ],
   "source": [
    "model = keras.models.load_model(\"C:/Aimsun Projects/Calibration Using Neural Networks/normalized_minmax_model.h5\")\n",
    "features_min = np.load(\"C:/Aimsun Projects/Calibration Using Neural Networks/normalized_minmax_model_min_x.npy\")\n",
    "features_max = np.load(\"C:/Aimsun Projects/Calibration Using Neural Networks/normalized_minmax_model_max_x.npy\")\n",
    "labels_min = np.load(\"C:/Aimsun Projects/Calibration Using Neural Networks/normalized_minmax_model_min_y.npy\")\n",
    "labels_max = np.load(\"C:/Aimsun Projects/Calibration Using Neural Networks/normalized_minmax_model_max_y.npy\")"
   ]
  },
  {
   "cell_type": "code",
   "execution_count": 40,
   "metadata": {},
   "outputs": [],
   "source": [
    "model.compile(loss='mse', \n",
    "                          optimizer=tf.train.RMSPropOptimizer(0.001), \n",
    "                          metrics=['mae'])"
   ]
  },
  {
   "cell_type": "code",
   "execution_count": 6,
   "metadata": {},
   "outputs": [
    {
     "name": "stdout",
     "output_type": "stream",
     "text": [
      "Model: \"sequential_7\"\n",
      "_________________________________________________________________\n",
      "Layer (type)                 Output Shape              Param #   \n",
      "=================================================================\n",
      "flatten_7 (Flatten)          (None, 972)               0         \n",
      "_________________________________________________________________\n",
      "dense_20 (Dense)             (None, 128)               124544    \n",
      "_________________________________________________________________\n",
      "dense_21 (Dense)             (None, 128)               16512     \n",
      "_________________________________________________________________\n",
      "dense_22 (Dense)             (None, 9)                 1161      \n",
      "=================================================================\n",
      "Total params: 142,217\n",
      "Trainable params: 142,217\n",
      "Non-trainable params: 0\n",
      "_________________________________________________________________\n"
     ]
    }
   ],
   "source": [
    "model.summary()"
   ]
  },
  {
   "cell_type": "code",
   "execution_count": 45,
   "metadata": {},
   "outputs": [],
   "source": [
    "features, labels = load_data([\"C:/Aimsun Projects/Calibration Using Neural Networks/dataset/x25.csv\"],\n",
    "                            [\"C:/Aimsun Projects/Calibration Using Neural Networks/dataset/y25.csv\"])"
   ]
  },
  {
   "cell_type": "code",
   "execution_count": 42,
   "metadata": {},
   "outputs": [
    {
     "data": {
      "text/plain": [
       "(1, 162, 6)"
      ]
     },
     "execution_count": 42,
     "metadata": {},
     "output_type": "execute_result"
    }
   ],
   "source": [
    "features.shape"
   ]
  },
  {
   "cell_type": "code",
   "execution_count": 46,
   "metadata": {},
   "outputs": [
    {
     "data": {
      "text/plain": [
       "array([  0.4,   0.6,   2.9,   4.5,  64. ,   8. , 170. , 370. , 370. ])"
      ]
     },
     "execution_count": 46,
     "metadata": {},
     "output_type": "execute_result"
    }
   ],
   "source": [
    "labels[0]"
   ]
  },
  {
   "cell_type": "code",
   "execution_count": 47,
   "metadata": {},
   "outputs": [
    {
     "data": {
      "text/plain": [
       "array([[ 3.27941716e-01, -2.57865667e-01,  3.16032660e+00,\n",
       "         3.14722419e+00,  5.11154950e+01,  3.51987422e+01,\n",
       "         1.75051796e+02,  5.51118040e+02,  5.36905885e+02]])"
      ]
     },
     "execution_count": 47,
     "metadata": {},
     "output_type": "execute_result"
    }
   ],
   "source": [
    "features_norm = features\n",
    "features_norm[:,:,:2] = (features[:,:,:2] - features_min) / (features_max - features_min)\n",
    "model.predict(features_norm) * (labels_max - labels_min) + labels_min"
   ]
  },
  {
   "cell_type": "code",
   "execution_count": null,
   "metadata": {},
   "outputs": [],
   "source": []
  },
  {
   "cell_type": "code",
   "execution_count": null,
   "metadata": {},
   "outputs": [],
   "source": []
  }
 ],
 "metadata": {
  "kernelspec": {
   "display_name": "Python 3",
   "language": "python",
   "name": "python3"
  },
  "language_info": {
   "codemirror_mode": {
    "name": "ipython",
    "version": 3
   },
   "file_extension": ".py",
   "mimetype": "text/x-python",
   "name": "python",
   "nbconvert_exporter": "python",
   "pygments_lexer": "ipython3",
   "version": "3.7.3"
  }
 },
 "nbformat": 4,
 "nbformat_minor": 2
}
